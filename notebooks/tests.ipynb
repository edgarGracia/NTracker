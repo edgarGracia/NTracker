{
 "cells": [
  {
   "cell_type": "code",
   "execution_count": 2,
   "metadata": {},
   "outputs": [],
   "source": [
    "from NTracker.parsers.coco_results_parser import CocoResultsParser\n",
    "from pathlib import Path"
   ]
  },
  {
   "cell_type": "code",
   "execution_count": 3,
   "metadata": {},
   "outputs": [],
   "source": [
    "parser = CocoResultsParser(Path(\"/home/egracia/Desktop/pigs/predict\"))"
   ]
  },
  {
   "cell_type": "code",
   "execution_count": 6,
   "metadata": {},
   "outputs": [
    {
     "ename": "FileNotFoundError",
     "evalue": "[Errno 2] No such file or directory: '\\\\home\\\\egracia\\\\Desktop\\\\pigs\\\\predict\\\\10000.json'",
     "output_type": "error",
     "traceback": [
      "\u001b[1;31m---------------------------------------------------------------------------\u001b[0m",
      "\u001b[1;31mFileNotFoundError\u001b[0m                         Traceback (most recent call last)",
      "Cell \u001b[1;32mIn[6], line 1\u001b[0m\n\u001b[1;32m----> 1\u001b[0m instances \u001b[39m=\u001b[39m parser\u001b[39m.\u001b[39;49mread(Path(\u001b[39m\"\u001b[39;49m\u001b[39m/home/egracia/Desktop/pigs/predict/10000.json\u001b[39;49m\u001b[39m\"\u001b[39;49m))\n",
      "File \u001b[1;32mc:\\users\\he7\\documents\\git\\cocotracking2\\NTracker\\parsers\\coco_results_parser.py:37\u001b[0m, in \u001b[0;36mCocoResultsParser.read\u001b[1;34m(self, file_path)\u001b[0m\n\u001b[0;32m     28\u001b[0m \u001b[39mdef\u001b[39;00m \u001b[39mread\u001b[39m(\u001b[39mself\u001b[39m, file_path: Union[Path, \u001b[39mstr\u001b[39m]) \u001b[39m-\u001b[39m\u001b[39m>\u001b[39m List[Instance]:\n\u001b[0;32m     29\u001b[0m     \u001b[39m\"\"\"Read the annotations from one image.\u001b[39;00m\n\u001b[0;32m     30\u001b[0m \n\u001b[0;32m     31\u001b[0m \u001b[39m    Args:\u001b[39;00m\n\u001b[1;32m   (...)\u001b[0m\n\u001b[0;32m     35\u001b[0m \u001b[39m        List[Instance]: List of instances.\u001b[39;00m\n\u001b[0;32m     36\u001b[0m \u001b[39m    \"\"\"\u001b[39;00m\n\u001b[1;32m---> 37\u001b[0m     annotations \u001b[39m=\u001b[39m json\u001b[39m.\u001b[39mloads(Path(file_path)\u001b[39m.\u001b[39;49mread_text())\n\u001b[0;32m     39\u001b[0m     instances \u001b[39m=\u001b[39m []\n\u001b[0;32m     40\u001b[0m     \u001b[39mfor\u001b[39;00m annot \u001b[39min\u001b[39;00m annotations:\n",
      "File \u001b[1;32mc:\\Program Files\\Python311\\Lib\\pathlib.py:1058\u001b[0m, in \u001b[0;36mPath.read_text\u001b[1;34m(self, encoding, errors)\u001b[0m\n\u001b[0;32m   1054\u001b[0m \u001b[39m\"\"\"\u001b[39;00m\n\u001b[0;32m   1055\u001b[0m \u001b[39mOpen the file in text mode, read it, and close the file.\u001b[39;00m\n\u001b[0;32m   1056\u001b[0m \u001b[39m\"\"\"\u001b[39;00m\n\u001b[0;32m   1057\u001b[0m encoding \u001b[39m=\u001b[39m io\u001b[39m.\u001b[39mtext_encoding(encoding)\n\u001b[1;32m-> 1058\u001b[0m \u001b[39mwith\u001b[39;00m \u001b[39mself\u001b[39;49m\u001b[39m.\u001b[39;49mopen(mode\u001b[39m=\u001b[39;49m\u001b[39m'\u001b[39;49m\u001b[39mr\u001b[39;49m\u001b[39m'\u001b[39;49m, encoding\u001b[39m=\u001b[39;49mencoding, errors\u001b[39m=\u001b[39;49merrors) \u001b[39mas\u001b[39;00m f:\n\u001b[0;32m   1059\u001b[0m     \u001b[39mreturn\u001b[39;00m f\u001b[39m.\u001b[39mread()\n",
      "File \u001b[1;32mc:\\Program Files\\Python311\\Lib\\pathlib.py:1044\u001b[0m, in \u001b[0;36mPath.open\u001b[1;34m(self, mode, buffering, encoding, errors, newline)\u001b[0m\n\u001b[0;32m   1042\u001b[0m \u001b[39mif\u001b[39;00m \u001b[39m\"\u001b[39m\u001b[39mb\u001b[39m\u001b[39m\"\u001b[39m \u001b[39mnot\u001b[39;00m \u001b[39min\u001b[39;00m mode:\n\u001b[0;32m   1043\u001b[0m     encoding \u001b[39m=\u001b[39m io\u001b[39m.\u001b[39mtext_encoding(encoding)\n\u001b[1;32m-> 1044\u001b[0m \u001b[39mreturn\u001b[39;00m io\u001b[39m.\u001b[39;49mopen(\u001b[39mself\u001b[39;49m, mode, buffering, encoding, errors, newline)\n",
      "\u001b[1;31mFileNotFoundError\u001b[0m: [Errno 2] No such file or directory: '\\\\home\\\\egracia\\\\Desktop\\\\pigs\\\\predict\\\\10000.json'"
     ]
    }
   ],
   "source": [
    "instances = parser.read(Path(\"/home/egracia/Desktop/pigs/predict/10000.json\"))"
   ]
  },
  {
   "cell_type": "code",
   "execution_count": 6,
   "metadata": {},
   "outputs": [
    {
     "name": "stdout",
     "output_type": "stream",
     "text": [
      "[<NTracker.utils.instance.Instance object at 0x7fd2ac422340>, <NTracker.utils.instance.Instance object at 0x7fd2ac4223d0>, <NTracker.utils.instance.Instance object at 0x7fd2ac42ca30>, <NTracker.utils.instance.Instance object at 0x7fd2ac42ce50>, <NTracker.utils.instance.Instance object at 0x7fd2ac41c3d0>, <NTracker.utils.instance.Instance object at 0x7fd294205f70>, <NTracker.utils.instance.Instance object at 0x7fd2942057f0>, <NTracker.utils.instance.Instance object at 0x7fd294205850>, <NTracker.utils.instance.Instance object at 0x7fd294205880>, <NTracker.utils.instance.Instance object at 0x7fd294205760>]\n",
      "{'bounding_box': (629.5105590820312, 916.9472045898438, 895.9321899414062, 1074.1285400390625), 'score': 1.0, 'id': 0, 'mask': array([[0, 0, 0, ..., 0, 0, 0],\n",
      "       [0, 0, 0, ..., 0, 0, 0],\n",
      "       [0, 0, 0, ..., 0, 0, 0],\n",
      "       ...,\n",
      "       [0, 0, 0, ..., 0, 0, 0],\n",
      "       [0, 0, 0, ..., 0, 0, 0],\n",
      "       [0, 0, 0, ..., 0, 0, 0]], dtype=uint8), 'label': None, 'label_id': 0, 'image_id': 6}\n",
      "{'bounding_box': (1493.9981689453125, 711.8425903320312, 1643.8800048828125, 927.2552490234375), 'score': 0.9999998807907104, 'id': 1, 'mask': array([[0, 0, 0, ..., 0, 0, 0],\n",
      "       [0, 0, 0, ..., 0, 0, 0],\n",
      "       [0, 0, 0, ..., 0, 0, 0],\n",
      "       ...,\n",
      "       [0, 0, 0, ..., 0, 0, 0],\n",
      "       [0, 0, 0, ..., 0, 0, 0],\n",
      "       [0, 0, 0, ..., 0, 0, 0]], dtype=uint8), 'label': None, 'label_id': 0, 'image_id': 6}\n",
      "{'bounding_box': (1363.71923828125, 821.0431518554688, 1589.433837890625, 983.54833984375), 'score': 0.9999998807907104, 'id': 2, 'mask': array([[0, 0, 0, ..., 0, 0, 0],\n",
      "       [0, 0, 0, ..., 0, 0, 0],\n",
      "       [0, 0, 0, ..., 0, 0, 0],\n",
      "       ...,\n",
      "       [0, 0, 0, ..., 0, 0, 0],\n",
      "       [0, 0, 0, ..., 0, 0, 0],\n",
      "       [0, 0, 0, ..., 0, 0, 0]], dtype=uint8), 'label': None, 'label_id': 0, 'image_id': 6}\n",
      "{'bounding_box': (959.0188598632812, 246.16354370117188, 1065.856201171875, 453.7059326171875), 'score': 0.9999997615814209, 'id': 3, 'mask': array([[0, 0, 0, ..., 0, 0, 0],\n",
      "       [0, 0, 0, ..., 0, 0, 0],\n",
      "       [0, 0, 0, ..., 0, 0, 0],\n",
      "       ...,\n",
      "       [0, 0, 0, ..., 0, 0, 0],\n",
      "       [0, 0, 0, ..., 0, 0, 0],\n",
      "       [0, 0, 0, ..., 0, 0, 0]], dtype=uint8), 'label': None, 'label_id': 0, 'image_id': 6}\n",
      "{'bounding_box': (1188.96484375, 502.51708984375, 1443.507568359375, 658.4095458984375), 'score': 0.9999997615814209, 'id': 4, 'mask': array([[0, 0, 0, ..., 0, 0, 0],\n",
      "       [0, 0, 0, ..., 0, 0, 0],\n",
      "       [0, 0, 0, ..., 0, 0, 0],\n",
      "       ...,\n",
      "       [0, 0, 0, ..., 0, 0, 0],\n",
      "       [0, 0, 0, ..., 0, 0, 0],\n",
      "       [0, 0, 0, ..., 0, 0, 0]], dtype=uint8), 'label': None, 'label_id': 0, 'image_id': 6}\n",
      "{'bounding_box': (1315.5960693359375, 727.0435791015625, 1554.7628173828125, 898.607666015625), 'score': 0.9999996423721313, 'id': 5, 'mask': array([[0, 0, 0, ..., 0, 0, 0],\n",
      "       [0, 0, 0, ..., 0, 0, 0],\n",
      "       [0, 0, 0, ..., 0, 0, 0],\n",
      "       ...,\n",
      "       [0, 0, 0, ..., 0, 0, 0],\n",
      "       [0, 0, 0, ..., 0, 0, 0],\n",
      "       [0, 0, 0, ..., 0, 0, 0]], dtype=uint8), 'label': None, 'label_id': 0, 'image_id': 6}\n",
      "{'bounding_box': (1221.58935546875, 974.9296264648438, 1452.6004638671875, 1047.004150390625), 'score': 0.9999995231628418, 'id': 6, 'mask': array([[0, 0, 0, ..., 0, 0, 0],\n",
      "       [0, 0, 0, ..., 0, 0, 0],\n",
      "       [0, 0, 0, ..., 0, 0, 0],\n",
      "       ...,\n",
      "       [0, 0, 0, ..., 0, 0, 0],\n",
      "       [0, 0, 0, ..., 0, 0, 0],\n",
      "       [0, 0, 0, ..., 0, 0, 0]], dtype=uint8), 'label': None, 'label_id': 0, 'image_id': 6}\n",
      "{'bounding_box': (781.0363159179688, 711.9729614257812, 1073.08447265625, 879.9126586914062), 'score': 0.9999990463256836, 'id': 7, 'mask': array([[0, 0, 0, ..., 0, 0, 0],\n",
      "       [0, 0, 0, ..., 0, 0, 0],\n",
      "       [0, 0, 0, ..., 0, 0, 0],\n",
      "       ...,\n",
      "       [0, 0, 0, ..., 0, 0, 0],\n",
      "       [0, 0, 0, ..., 0, 0, 0],\n",
      "       [0, 0, 0, ..., 0, 0, 0]], dtype=uint8), 'label': None, 'label_id': 0, 'image_id': 6}\n",
      "{'bounding_box': (1093.336181640625, 742.6932983398438, 1289.293701171875, 1026.50390625), 'score': 0.9999988079071045, 'id': 8, 'mask': array([[0, 0, 0, ..., 0, 0, 0],\n",
      "       [0, 0, 0, ..., 0, 0, 0],\n",
      "       [0, 0, 0, ..., 0, 0, 0],\n",
      "       ...,\n",
      "       [0, 0, 0, ..., 0, 0, 0],\n",
      "       [0, 0, 0, ..., 0, 0, 0],\n",
      "       [0, 0, 0, ..., 0, 0, 0]], dtype=uint8), 'label': None, 'label_id': 0, 'image_id': 6}\n",
      "{'bounding_box': (942.1941528320312, 257.74224853515625, 1033.7818603515625, 501.91912841796875), 'score': 0.9999876022338867, 'id': 9, 'mask': array([[0, 0, 0, ..., 0, 0, 0],\n",
      "       [0, 0, 0, ..., 0, 0, 0],\n",
      "       [0, 0, 0, ..., 0, 0, 0],\n",
      "       ...,\n",
      "       [0, 0, 0, ..., 0, 0, 0],\n",
      "       [0, 0, 0, ..., 0, 0, 0],\n",
      "       [0, 0, 0, ..., 0, 0, 0]], dtype=uint8), 'label': None, 'label_id': 0, 'image_id': 6}\n"
     ]
    }
   ],
   "source": [
    "print(instances)\n",
    "for i in instances:\n",
    "    print(i)"
   ]
  }
 ],
 "metadata": {
  "kernelspec": {
   "display_name": "Python 3",
   "language": "python",
   "name": "python3"
  },
  "language_info": {
   "codemirror_mode": {
    "name": "ipython",
    "version": 3
   },
   "file_extension": ".py",
   "mimetype": "text/x-python",
   "name": "python",
   "nbconvert_exporter": "python",
   "pygments_lexer": "ipython3",
   "version": "3.11.0"
  },
  "orig_nbformat": 4
 },
 "nbformat": 4,
 "nbformat_minor": 2
}
