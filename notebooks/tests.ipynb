{
 "cells": [
  {
   "cell_type": "code",
   "execution_count": 1,
   "metadata": {},
   "outputs": [],
   "source": [
    "from NTracker.parsers.coco_results_parser import CocoResultsParser\n",
    "from pathlib import Path"
   ]
  },
  {
   "cell_type": "code",
   "execution_count": 2,
   "metadata": {},
   "outputs": [],
   "source": [
    "parser = CocoResultsParser(Path(\"/home/egracia/Desktop/pigs/predict\"))"
   ]
  },
  {
   "cell_type": "code",
   "execution_count": 3,
   "metadata": {},
   "outputs": [],
   "source": [
    "instances = parser.read(Path(\"/home/egracia/Desktop/pigs/predict/7587.png\"))"
   ]
  },
  {
   "cell_type": "code",
   "execution_count": 6,
   "metadata": {},
   "outputs": [
    {
     "name": "stdout",
     "output_type": "stream",
     "text": [
      "[<NTracker.utils.instance.Instance object at 0x7fd2ac422340>, <NTracker.utils.instance.Instance object at 0x7fd2ac4223d0>, <NTracker.utils.instance.Instance object at 0x7fd2ac42ca30>, <NTracker.utils.instance.Instance object at 0x7fd2ac42ce50>, <NTracker.utils.instance.Instance object at 0x7fd2ac41c3d0>, <NTracker.utils.instance.Instance object at 0x7fd294205f70>, <NTracker.utils.instance.Instance object at 0x7fd2942057f0>, <NTracker.utils.instance.Instance object at 0x7fd294205850>, <NTracker.utils.instance.Instance object at 0x7fd294205880>, <NTracker.utils.instance.Instance object at 0x7fd294205760>]\n",
      "{'bounding_box': (629.5105590820312, 916.9472045898438, 895.9321899414062, 1074.1285400390625), 'score': 1.0, 'id': 0, 'mask': array([[0, 0, 0, ..., 0, 0, 0],\n",
      "       [0, 0, 0, ..., 0, 0, 0],\n",
      "       [0, 0, 0, ..., 0, 0, 0],\n",
      "       ...,\n",
      "       [0, 0, 0, ..., 0, 0, 0],\n",
      "       [0, 0, 0, ..., 0, 0, 0],\n",
      "       [0, 0, 0, ..., 0, 0, 0]], dtype=uint8), 'label': None, 'label_id': 0, 'image_id': 6}\n",
      "{'bounding_box': (1493.9981689453125, 711.8425903320312, 1643.8800048828125, 927.2552490234375), 'score': 0.9999998807907104, 'id': 1, 'mask': array([[0, 0, 0, ..., 0, 0, 0],\n",
      "       [0, 0, 0, ..., 0, 0, 0],\n",
      "       [0, 0, 0, ..., 0, 0, 0],\n",
      "       ...,\n",
      "       [0, 0, 0, ..., 0, 0, 0],\n",
      "       [0, 0, 0, ..., 0, 0, 0],\n",
      "       [0, 0, 0, ..., 0, 0, 0]], dtype=uint8), 'label': None, 'label_id': 0, 'image_id': 6}\n",
      "{'bounding_box': (1363.71923828125, 821.0431518554688, 1589.433837890625, 983.54833984375), 'score': 0.9999998807907104, 'id': 2, 'mask': array([[0, 0, 0, ..., 0, 0, 0],\n",
      "       [0, 0, 0, ..., 0, 0, 0],\n",
      "       [0, 0, 0, ..., 0, 0, 0],\n",
      "       ...,\n",
      "       [0, 0, 0, ..., 0, 0, 0],\n",
      "       [0, 0, 0, ..., 0, 0, 0],\n",
      "       [0, 0, 0, ..., 0, 0, 0]], dtype=uint8), 'label': None, 'label_id': 0, 'image_id': 6}\n",
      "{'bounding_box': (959.0188598632812, 246.16354370117188, 1065.856201171875, 453.7059326171875), 'score': 0.9999997615814209, 'id': 3, 'mask': array([[0, 0, 0, ..., 0, 0, 0],\n",
      "       [0, 0, 0, ..., 0, 0, 0],\n",
      "       [0, 0, 0, ..., 0, 0, 0],\n",
      "       ...,\n",
      "       [0, 0, 0, ..., 0, 0, 0],\n",
      "       [0, 0, 0, ..., 0, 0, 0],\n",
      "       [0, 0, 0, ..., 0, 0, 0]], dtype=uint8), 'label': None, 'label_id': 0, 'image_id': 6}\n",
      "{'bounding_box': (1188.96484375, 502.51708984375, 1443.507568359375, 658.4095458984375), 'score': 0.9999997615814209, 'id': 4, 'mask': array([[0, 0, 0, ..., 0, 0, 0],\n",
      "       [0, 0, 0, ..., 0, 0, 0],\n",
      "       [0, 0, 0, ..., 0, 0, 0],\n",
      "       ...,\n",
      "       [0, 0, 0, ..., 0, 0, 0],\n",
      "       [0, 0, 0, ..., 0, 0, 0],\n",
      "       [0, 0, 0, ..., 0, 0, 0]], dtype=uint8), 'label': None, 'label_id': 0, 'image_id': 6}\n",
      "{'bounding_box': (1315.5960693359375, 727.0435791015625, 1554.7628173828125, 898.607666015625), 'score': 0.9999996423721313, 'id': 5, 'mask': array([[0, 0, 0, ..., 0, 0, 0],\n",
      "       [0, 0, 0, ..., 0, 0, 0],\n",
      "       [0, 0, 0, ..., 0, 0, 0],\n",
      "       ...,\n",
      "       [0, 0, 0, ..., 0, 0, 0],\n",
      "       [0, 0, 0, ..., 0, 0, 0],\n",
      "       [0, 0, 0, ..., 0, 0, 0]], dtype=uint8), 'label': None, 'label_id': 0, 'image_id': 6}\n",
      "{'bounding_box': (1221.58935546875, 974.9296264648438, 1452.6004638671875, 1047.004150390625), 'score': 0.9999995231628418, 'id': 6, 'mask': array([[0, 0, 0, ..., 0, 0, 0],\n",
      "       [0, 0, 0, ..., 0, 0, 0],\n",
      "       [0, 0, 0, ..., 0, 0, 0],\n",
      "       ...,\n",
      "       [0, 0, 0, ..., 0, 0, 0],\n",
      "       [0, 0, 0, ..., 0, 0, 0],\n",
      "       [0, 0, 0, ..., 0, 0, 0]], dtype=uint8), 'label': None, 'label_id': 0, 'image_id': 6}\n",
      "{'bounding_box': (781.0363159179688, 711.9729614257812, 1073.08447265625, 879.9126586914062), 'score': 0.9999990463256836, 'id': 7, 'mask': array([[0, 0, 0, ..., 0, 0, 0],\n",
      "       [0, 0, 0, ..., 0, 0, 0],\n",
      "       [0, 0, 0, ..., 0, 0, 0],\n",
      "       ...,\n",
      "       [0, 0, 0, ..., 0, 0, 0],\n",
      "       [0, 0, 0, ..., 0, 0, 0],\n",
      "       [0, 0, 0, ..., 0, 0, 0]], dtype=uint8), 'label': None, 'label_id': 0, 'image_id': 6}\n",
      "{'bounding_box': (1093.336181640625, 742.6932983398438, 1289.293701171875, 1026.50390625), 'score': 0.9999988079071045, 'id': 8, 'mask': array([[0, 0, 0, ..., 0, 0, 0],\n",
      "       [0, 0, 0, ..., 0, 0, 0],\n",
      "       [0, 0, 0, ..., 0, 0, 0],\n",
      "       ...,\n",
      "       [0, 0, 0, ..., 0, 0, 0],\n",
      "       [0, 0, 0, ..., 0, 0, 0],\n",
      "       [0, 0, 0, ..., 0, 0, 0]], dtype=uint8), 'label': None, 'label_id': 0, 'image_id': 6}\n",
      "{'bounding_box': (942.1941528320312, 257.74224853515625, 1033.7818603515625, 501.91912841796875), 'score': 0.9999876022338867, 'id': 9, 'mask': array([[0, 0, 0, ..., 0, 0, 0],\n",
      "       [0, 0, 0, ..., 0, 0, 0],\n",
      "       [0, 0, 0, ..., 0, 0, 0],\n",
      "       ...,\n",
      "       [0, 0, 0, ..., 0, 0, 0],\n",
      "       [0, 0, 0, ..., 0, 0, 0],\n",
      "       [0, 0, 0, ..., 0, 0, 0]], dtype=uint8), 'label': None, 'label_id': 0, 'image_id': 6}\n"
     ]
    }
   ],
   "source": [
    "print(instances)\n",
    "for i in instances:\n",
    "    print(i)"
   ]
  }
 ],
 "metadata": {
  "kernelspec": {
   "display_name": "Python 3",
   "language": "python",
   "name": "python3"
  },
  "language_info": {
   "codemirror_mode": {
    "name": "ipython",
    "version": 3
   },
   "file_extension": ".py",
   "mimetype": "text/x-python",
   "name": "python",
   "nbconvert_exporter": "python",
   "pygments_lexer": "ipython3",
   "version": "3.9.5"
  },
  "orig_nbformat": 4
 },
 "nbformat": 4,
 "nbformat_minor": 2
}
